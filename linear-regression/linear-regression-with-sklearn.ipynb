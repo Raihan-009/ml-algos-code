{
 "cells": [
  {
   "cell_type": "code",
   "execution_count": 2,
   "id": "496f1341",
   "metadata": {},
   "outputs": [],
   "source": [
    "from sklearn.model_selection import train_test_split\n",
    "import numpy as np\n",
    "import pandas as pd\n",
    "import matplotlib.pyplot as plt"
   ]
  },
  {
   "cell_type": "code",
   "execution_count": 3,
   "id": "3caf6fcb",
   "metadata": {},
   "outputs": [],
   "source": [
    "class SimpleRegression:\n",
    "    \n",
    "    def __init__(self):\n",
    "        self.m = None\n",
    "        self.c = None\n",
    "    def fit(self, X_train, Y_train):\n",
    "        \n",
    "        numerator = 0\n",
    "        denominator = 0\n",
    "        \n",
    "        for i in range(X_train.shape[0]):\n",
    "            numerator += (X_train[i] - X_train.mean())*(Y_train[i] - Y_train.mean())\n",
    "            denominator += (X_train[i] - X_train.mean())*(X_train[i] - X_train.mean())\n",
    "        \n",
    "        self.m = numerator/denominator\n",
    "        self.c = Y_train.mean() - (self.m*X_train.mean())\n",
    "        \n",
    "        print(self.m)\n",
    "        print(self.c)\n",
    "        \n",
    "    def predict(self, X_test):\n",
    "        \n",
    "        return self.m*X_test+self.c"
   ]
  },
  {
   "cell_type": "code",
   "execution_count": 4,
   "id": "b1424f75",
   "metadata": {},
   "outputs": [],
   "source": [
    "df = pd.read_csv('onlinedataset.csv')"
   ]
  },
  {
   "cell_type": "code",
   "execution_count": 5,
   "id": "70bb94a4",
   "metadata": {},
   "outputs": [
    {
     "data": {
      "text/html": [
       "<div>\n",
       "<style scoped>\n",
       "    .dataframe tbody tr th:only-of-type {\n",
       "        vertical-align: middle;\n",
       "    }\n",
       "\n",
       "    .dataframe tbody tr th {\n",
       "        vertical-align: top;\n",
       "    }\n",
       "\n",
       "    .dataframe thead th {\n",
       "        text-align: right;\n",
       "    }\n",
       "</style>\n",
       "<table border=\"1\" class=\"dataframe\">\n",
       "  <thead>\n",
       "    <tr style=\"text-align: right;\">\n",
       "      <th></th>\n",
       "      <th>Gender</th>\n",
       "      <th>Age Range</th>\n",
       "      <th>Head Size</th>\n",
       "      <th>Brain Weight</th>\n",
       "    </tr>\n",
       "  </thead>\n",
       "  <tbody>\n",
       "    <tr>\n",
       "      <th>0</th>\n",
       "      <td>1</td>\n",
       "      <td>1</td>\n",
       "      <td>4512</td>\n",
       "      <td>1530</td>\n",
       "    </tr>\n",
       "    <tr>\n",
       "      <th>1</th>\n",
       "      <td>1</td>\n",
       "      <td>1</td>\n",
       "      <td>3738</td>\n",
       "      <td>1297</td>\n",
       "    </tr>\n",
       "    <tr>\n",
       "      <th>2</th>\n",
       "      <td>1</td>\n",
       "      <td>1</td>\n",
       "      <td>4261</td>\n",
       "      <td>1335</td>\n",
       "    </tr>\n",
       "    <tr>\n",
       "      <th>3</th>\n",
       "      <td>1</td>\n",
       "      <td>1</td>\n",
       "      <td>3777</td>\n",
       "      <td>1282</td>\n",
       "    </tr>\n",
       "    <tr>\n",
       "      <th>4</th>\n",
       "      <td>1</td>\n",
       "      <td>1</td>\n",
       "      <td>4177</td>\n",
       "      <td>1590</td>\n",
       "    </tr>\n",
       "  </tbody>\n",
       "</table>\n",
       "</div>"
      ],
      "text/plain": [
       "   Gender  Age Range  Head Size  Brain Weight\n",
       "0       1          1       4512          1530\n",
       "1       1          1       3738          1297\n",
       "2       1          1       4261          1335\n",
       "3       1          1       3777          1282\n",
       "4       1          1       4177          1590"
      ]
     },
     "execution_count": 5,
     "metadata": {},
     "output_type": "execute_result"
    }
   ],
   "source": [
    "df.head()"
   ]
  },
  {
   "cell_type": "code",
   "execution_count": 6,
   "id": "6cd8b2ff",
   "metadata": {},
   "outputs": [],
   "source": [
    "X = df.iloc[:, 2].values\n",
    "y = df.iloc[:, 3].values"
   ]
  },
  {
   "cell_type": "code",
   "execution_count": 7,
   "id": "782cf1fb",
   "metadata": {},
   "outputs": [
    {
     "data": {
      "text/plain": [
       "array([1357, 1168, 1318, 1400, 1243, 1635, 1320, 1180, 1340, 1105, 1340,\n",
       "       1334, 1290, 1235, 1220, 1235, 1295, 1310, 1320, 1522, 1207, 1305,\n",
       "       1240, 1312, 1250, 1120, 1346, 1270, 1135, 1220, 1265, 1362, 1440,\n",
       "       1290, 1170, 1370, 1505, 1280, 1470, 1252, 1192, 1620, 1425, 1400,\n",
       "       1310, 1355, 1420, 1390])"
      ]
     },
     "execution_count": 7,
     "metadata": {},
     "output_type": "execute_result"
    }
   ],
   "source": [
    "X_train, X_test, Y_train, Y_test = train_test_split(X, y, test_size = 0.2, random_state = 2)\n",
    "Y_test"
   ]
  },
  {
   "cell_type": "code",
   "execution_count": 8,
   "id": "adf01a80",
   "metadata": {},
   "outputs": [],
   "source": [
    "lr = SimpleRegression()"
   ]
  },
  {
   "cell_type": "code",
   "execution_count": 9,
   "id": "d63a7282",
   "metadata": {},
   "outputs": [
    {
     "name": "stdout",
     "output_type": "stream",
     "text": [
      "0.2594065813511456\n",
      "337.24135306995163\n"
     ]
    }
   ],
   "source": [
    "lr.fit(X_train, Y_train)"
   ]
  },
  {
   "cell_type": "code",
   "execution_count": 10,
   "id": "6359a5da",
   "metadata": {},
   "outputs": [
    {
     "name": "stdout",
     "output_type": "stream",
     "text": [
      "1420.7826433736868\n"
     ]
    }
   ],
   "source": [
    "print(lr.predict(4177))"
   ]
  },
  {
   "cell_type": "code",
   "execution_count": 11,
   "id": "88195453",
   "metadata": {},
   "outputs": [
    {
     "data": {
      "image/png": "[encoded data removed]",
      "text/plain": [
       "<Figure size 640x480 with 1 Axes>"
      ]
     },
     "metadata": {},
     "output_type": "display_data"
    }
   ],
   "source": [
    "plt.scatter(df['Head Size'], df['Brain Weight'], color = 'green', label = \"Data Points\")\n",
    "plt.plot(X_train, lr.predict(X_train), color = 'red',label = \"Regression Line\")\n",
    "plt.xlabel('Head Size -------->')\n",
    "plt.ylabel('Brain Size -------->')\n",
    "plt.legend()\n",
    "plt.show()"
   ]
  },
  {
   "cell_type": "code",
   "execution_count": 12,
   "id": "0e92c041",
   "metadata": {},
   "outputs": [],
   "source": [
    "from sklearn.metrics import mean_absolute_error, mean_squared_error, r2_score"
   ]
  },
  {
   "cell_type": "code",
   "execution_count": 13,
   "id": "c0a04286",
   "metadata": {},
   "outputs": [],
   "source": [
    "y_pred = lr.predict(X_test)"
   ]
  },
  {
   "cell_type": "code",
   "execution_count": 14,
   "id": "2ef3b56f",
   "metadata": {},
   "outputs": [
    {
     "data": {
      "text/plain": [
       "array([1343.22007555, 1138.80768944, 1319.61407665, 1377.98055745,\n",
       "       1184.72265434, 1568.64439474, 1265.91691431, 1179.27511614,\n",
       "       1230.37821266, 1187.31672016, 1339.32897683, 1349.70524008,\n",
       "       1269.54860645, 1298.86155014, 1219.74254283, 1228.56236659,\n",
       "       1263.58225507, 1223.11482838, 1246.46142071, 1428.8242474 ,\n",
       "       1326.61805434, 1294.97045142, 1329.21212016, 1388.61622729,\n",
       "       1251.39014575, 1216.88907043, 1348.66761376, 1299.63976988,\n",
       "       1200.80586239, 1298.08333039, 1187.83553332, 1404.44002875,\n",
       "       1350.74286641, 1214.81381778, 1155.92852381, 1416.37273149,\n",
       "       1484.59666239, 1307.42196732, 1304.04968177, 1252.94658524,\n",
       "       1229.34058634, 1486.41250846, 1383.16868908, 1319.09526348,\n",
       "       1233.23168506, 1281.48130919, 1420.26383021, 1338.03194392])"
      ]
     },
     "execution_count": 14,
     "metadata": {},
     "output_type": "execute_result"
    }
   ],
   "source": [
    "y_pred"
   ]
  },
  {
   "cell_type": "code",
   "execution_count": 15,
   "id": "a2a9743f",
   "metadata": {},
   "outputs": [
    {
     "data": {
      "text/plain": [
       "array([1357, 1168, 1318, 1400, 1243, 1635, 1320, 1180, 1340, 1105, 1340,\n",
       "       1334, 1290, 1235, 1220, 1235, 1295, 1310, 1320, 1522, 1207, 1305,\n",
       "       1240, 1312, 1250, 1120, 1346, 1270, 1135, 1220, 1265, 1362, 1440,\n",
       "       1290, 1170, 1370, 1505, 1280, 1470, 1252, 1192, 1620, 1425, 1400,\n",
       "       1310, 1355, 1420, 1390])"
      ]
     },
     "execution_count": 15,
     "metadata": {},
     "output_type": "execute_result"
    }
   ],
   "source": [
    "Y_test"
   ]
  },
  {
   "cell_type": "code",
   "execution_count": 16,
   "id": "c5d1909f",
   "metadata": {},
   "outputs": [
    {
     "name": "stdout",
     "output_type": "stream",
     "text": [
      "Mean Absolute Error :: 51.16116074575538\n"
     ]
    }
   ],
   "source": [
    "print(\"Mean Absolute Error ::\" ,mean_absolute_error(Y_test,y_pred))"
   ]
  },
  {
   "cell_type": "code",
   "execution_count": 17,
   "id": "b229ca46",
   "metadata": {},
   "outputs": [
    {
     "name": "stdout",
     "output_type": "stream",
     "text": [
      "Mean Squared Error :: 4195.115783896061\n"
     ]
    }
   ],
   "source": [
    "print(\"Mean Squared Error ::\" ,mean_squared_error(Y_test,y_pred))"
   ]
  },
  {
   "cell_type": "code",
   "execution_count": 18,
   "id": "434889b6",
   "metadata": {},
   "outputs": [
    {
     "name": "stdout",
     "output_type": "stream",
     "text": [
      "Root Mean Squared Error :: 64.76971347702613\n"
     ]
    }
   ],
   "source": [
    "print(\"Root Mean Squared Error ::\" ,np.sqrt(mean_squared_error(Y_test,y_pred)))"
   ]
  },
  {
   "cell_type": "code",
   "execution_count": 19,
   "id": "567dfa2b",
   "metadata": {},
   "outputs": [
    {
     "name": "stdout",
     "output_type": "stream",
     "text": [
      "R2 Score :: 0.6793647592908127\n"
     ]
    }
   ],
   "source": [
    "print(\"R2 Score ::\" ,r2_score(Y_test,y_pred))"
   ]
  },
  {
   "cell_type": "code",
   "execution_count": 20,
   "id": "61e67cf9",
   "metadata": {},
   "outputs": [],
   "source": [
    "r2 = r2_score(Y_test,y_pred)"
   ]
  },
  {
   "cell_type": "code",
   "execution_count": 21,
   "id": "f6690424",
   "metadata": {},
   "outputs": [
    {
     "data": {
      "text/plain": [
       "(48,)"
      ]
     },
     "execution_count": 21,
     "metadata": {},
     "output_type": "execute_result"
    }
   ],
   "source": [
    "X_test.shape"
   ]
  },
  {
   "cell_type": "code",
   "execution_count": 22,
   "id": "94eadfbb",
   "metadata": {},
   "outputs": [
    {
     "data": {
      "text/plain": [
       "0.6723944279710479"
      ]
     },
     "execution_count": 22,
     "metadata": {},
     "output_type": "execute_result"
    }
   ],
   "source": [
    "adj = 1 - ((1-r2)*(48-1)/(48-1-1))\n",
    "adj"
   ]
  }
 ],
 "metadata": {
  "kernelspec": {
   "display_name": "Python 3 (ipykernel)",
   "language": "python",
   "name": "python3"
  },
  "language_info": {
   "codemirror_mode": {
    "name": "ipython",
    "version": 3
   },
   "file_extension": ".py",
   "mimetype": "text/x-python",
   "name": "python",
   "nbconvert_exporter": "python",
   "pygments_lexer": "ipython3",
   "version": "3.9.13"
  }
 },
 "nbformat": 4,
 "nbformat_minor": 5
}
